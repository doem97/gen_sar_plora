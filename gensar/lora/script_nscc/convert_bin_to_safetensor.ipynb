{
 "cells": [
  {
   "cell_type": "code",
   "execution_count": 1,
   "metadata": {},
   "outputs": [],
   "source": [
    "\"\"\"\n",
    "Adapted from https://github.com/huggingface/diffusers/issues/2326 by https://github.com/ignacfetser\n",
    "\n",
    "The LoRA trained using Diffusers are saved in .bin or .pkl format, which must be converted to be used in Automatic1111 WebUI.\n",
    "\n",
    "This script converts .bin or .pkl files into .safetensors format, which can be used in WebUI.\n",
    "\n",
    "Put this file in the same folder of .bin or .pkl file and run `python convert-to-safetensors.py --file checkpoint_file`\n",
    "\n",
    "\"\"\"\n",
    "import re\n",
    "import os\n",
    "import argparse\n",
    "import torch\n",
    "from safetensors.torch import save_file\n",
    "\n",
    "\n",
    "def convert_bin(file_path):\n",
    "    ## use GPU or CPU\n",
    "    if torch.cuda.is_available():\n",
    "        device = \"cuda\"\n",
    "        checkpoint = torch.load(file_path, map_location=torch.device(\"cuda\"))\n",
    "    else:\n",
    "        device = \"cpu\"\n",
    "        # if on CPU or want to have maximum precision on GPU, use default full-precision setting\n",
    "        checkpoint = torch.load(file_path, map_location=torch.device(\"cpu\"))\n",
    "\n",
    "    print(f\"device is {device}\")\n",
    "\n",
    "    new_dict = dict()\n",
    "    for idx, key in enumerate(checkpoint):\n",
    "        new_key = re.sub(\"\\.processor\\.\", \"_\", key)\n",
    "        new_key = re.sub(\"mid_block\\.\", \"mid_block_\", new_key)\n",
    "        new_key = re.sub(\"_lora.up.\", \".lora_up.\", new_key)\n",
    "        new_key = re.sub(\"_lora.down.\", \".lora_down.\", new_key)\n",
    "        new_key = re.sub(\"\\.(\\d+)\\.\", \"_\\\\1_\", new_key)\n",
    "        new_key = re.sub(\"to_out\", \"to_out_0\", new_key)\n",
    "        new_key = \"lora_unet_\" + new_key\n",
    "\n",
    "        new_dict[new_key] = checkpoint[key]\n",
    "\n",
    "    file_name = os.path.splitext(file_path)[\n",
    "        0\n",
    "    ]  # get the file name without the extension\n",
    "    new_lora_name = file_name + \".safetensors\"\n",
    "    print(\"Saving \" + new_lora_name)\n",
    "    save_file(new_dict, new_lora_name)"
   ]
  },
  {
   "cell_type": "code",
   "execution_count": 2,
   "metadata": {},
   "outputs": [
    {
     "name": "stdout",
     "output_type": "stream",
     "text": [
      "device is cuda\n",
      "Saving /workspace/dso/GenSAR/LoRA/output/DOSRS_v2/dosrsv2_512_sd15_lr1e-04/checkpoint-5400/pytorch_model.safetensors\n"
     ]
    },
    {
     "name": "stderr",
     "output_type": "stream",
     "text": [
      "Bad pipe message: %s [b'\"Not.A/Brand\";v=\"8\", \"Chromium\";v=\"114\", \"Microsoft Edge\"']\n",
      "Bad pipe message: %s [b'=\"114\"\\r\\nsec-ch-ua-mobile: ?0\\r\\nsec-ch-ua-platform: \"macOS\"\\r']\n",
      "Bad pipe message: %s [b'ol: max-age=0\\r\\nsec-ch-ua: \"Not.A/Brand\";v=\"8\", \"Chromium\";v=\"114\", \"Microsoft Edge\";v=\"114\"\\r\\nsec-ch-ua-mobile: ?0\\r\\n']\n",
      "Bad pipe message: %s [b'c-ch-ua-platform: \"macOS\"\\r\\nUpgrade-Insecure-Requests: 1\\r\\nUser-Agent: Mozilla/5.0 (Macintosh; Intel Mac OS X 10_15_', b' AppleWebKit/537.36 (KHTML, like Gecko) Chrome/114.0.0', b' Safari/537.36 Edg/114.0.1823.58\\r\\nAccept: tex']\n",
      "Bad pipe message: %s [b'html,application/xhtml+xml,application/xml;q=0.9,image/webp,image/apng,*/*;q=0.8,application/signed-exchange;v=b3;q', b'.7\\r\\nSec-Fetch-Site: none\\r\\nSec-Fetch-Mode: navigate\\r\\nSec-Fetc']\n",
      "Bad pipe message: %s [b'ol: max-age=0\\r\\nsec-ch-ua: \"Not.A/Brand\";v=\"8\", \"Chromium\";v=\"114\", \"Microsoft Edge\";v=\"114\"\\r\\nsec-ch-ua-mobile: ?0\\r\\n']\n",
      "Bad pipe message: %s [b'c-ch-ua-platform: \"macOS\"\\r\\nUpgrade-Insecure-Requests: 1\\r\\nUser-Agent: Mozilla/5.0 (Macintosh; Intel Mac OS X 10_15_', b' AppleWebKit/537.36 (KHTML, like Gecko) Chrome/114.0.0', b' Safari/537.36 Edg/114.0.1823.58\\r\\nAccept: tex']\n",
      "Bad pipe message: %s [b'html,application/xhtml+xml,application/xml;q=0.9,image/webp,image/apng,*/*;q=0.8,application/signed-exchange;v=b3;q', b'.7\\r\\nSec-Fetch-Site: none\\r\\nSec-Fetch-Mode: navigate\\r\\nSec-Fetc']\n",
      "Bad pipe message: %s [b'nnection: keep-alive\\r\\nUpgrade-Insecure-Requests: 1\\r\\nUser-Agent: Mo', b'lla/5.0 (Macintosh; Intel Mac OS X 13_4_0) AppleWebKit/537.36 (KHTML, like Gecko) Code-Insiders/1.80.0-insider Chrome/108', b'.5359.215 Electron/22.3.14 Safari/537.36\\r\\nAcc']\n",
      "Bad pipe message: %s [b't: text/html,application/xhtml+xml,application/xml;q=0.9,image/avif,image/webp,image/apng,*/*;q=0.8,']\n",
      "Bad pipe message: %s [b'plication/signed-exchange;v=b3;q=0.9\\r\\nSec-Fetch-Site: cross-site\\r\\nSec-Fetch-Mode: navigate\\r\\nSec-']\n"
     ]
    }
   ],
   "source": [
    "# FPATH = \"/workspace/dso/GenSAR/LoRA/output/DOSRS_v1/shiprs_512_sd15_lr1e-04/checkpoint-2160/pytorch_model.bin\"\n",
    "# FPATH = \"/workspace/dso/GenSAR/LoRA/output/DOSRS_v1/512_sd15_lr1e-04/checkpoint-2700/pytorch_model.bin\"\n",
    "# FPATH = \"/workspace/dso/GenSAR/LoRA/output/sarlora256_lr1e-04/checkpoint-10000/pytorch_model.bin\"\n",
    "FPATH = \"/workspace/dso/GenSAR/LoRA/output/DOSRS_v2/dosrsv2_512_sd15_lr1e-04/checkpoint-5400/pytorch_model.bin\"\n",
    "convert_bin(FPATH)"
   ]
  },
  {
   "cell_type": "code",
   "execution_count": 2,
   "metadata": {},
   "outputs": [
    {
     "name": "stdout",
     "output_type": "stream",
     "text": [
      "Cargo: [3071, 696, 85, 17, 19, 1, 1, 0, 0, 0, 0, 0, 0, 0, 0, 0]\n",
      "Other: [967, 458, 125, 88, 23, 9, 14, 16, 3, 1, 4, 2, 0, 0, 0, 0]\n",
      "Fishing: [676, 102, 9, 26, 1, 0, 0, 0, 0, 0, 0, 0, 0, 0, 0, 0]\n",
      "Tanker: [87, 78, 60, 81, 9, 0, 0, 0, 0, 0, 0, 0, 0, 0, 0, 0]\n",
      "Dredger: [85, 7, 80, 32, 18, 0, 18, 2, 0, 0, 0, 0, 0, 0, 0, 0]\n"
     ]
    }
   ],
   "source": [
    "import random\n",
    "\n",
    "\n",
    "def split_into_subclasses(data, num_subclasses=16):\n",
    "    splits = {}\n",
    "    for category, value in data.items():\n",
    "        remaining = value\n",
    "        sub_values = []\n",
    "\n",
    "        for i in range(num_subclasses - 1):  # Subtract 1 to account for last split\n",
    "            split_val = random.randint(0, remaining)\n",
    "            sub_values.append(split_val)\n",
    "            remaining -= split_val\n",
    "\n",
    "        sub_values.append(remaining)  # the remaining value goes to the last subclass\n",
    "        splits[category] = sub_values\n",
    "\n",
    "    return splits\n",
    "\n",
    "\n",
    "# Sample data\n",
    "data = {\"Cargo\": 3890, \"Other\": 1710, \"Fishing\": 814, \"Tanker\": 315, \"Dredger\": 242}\n",
    "\n",
    "splits = split_into_subclasses(data)\n",
    "for category, sub_values in splits.items():\n",
    "    print(f\"{category}: {sub_values}\")"
   ]
  },
  {
   "cell_type": "code",
   "execution_count": 4,
   "metadata": {},
   "outputs": [
    {
     "name": "stdout",
     "output_type": "stream",
     "text": [
      "Subclass 1: Cargo=241, Other=124, Fishing=43, Tanker=18, Dredger=24\n",
      "Subclass 2: Cargo=229, Other=107, Fishing=50, Tanker=24, Dredger=15\n",
      "Subclass 3: Cargo=246, Other=103, Fishing=54, Tanker=26, Dredger=19\n",
      "Subclass 4: Cargo=263, Other=110, Fishing=58, Tanker=16, Dredger=11\n",
      "Subclass 5: Cargo=276, Other=118, Fishing=45, Tanker=23, Dredger=11\n",
      "Subclass 6: Cargo=221, Other=101, Fishing=51, Tanker=21, Dredger=15\n",
      "Subclass 7: Cargo=244, Other=83, Fishing=53, Tanker=15, Dredger=9\n",
      "Subclass 8: Cargo=248, Other=111, Fishing=56, Tanker=15, Dredger=15\n",
      "Subclass 9: Cargo=240, Other=87, Fishing=51, Tanker=15, Dredger=12\n",
      "Subclass 10: Cargo=225, Other=104, Fishing=49, Tanker=24, Dredger=10\n",
      "Subclass 11: Cargo=266, Other=101, Fishing=53, Tanker=20, Dredger=24\n",
      "Subclass 12: Cargo=216, Other=116, Fishing=59, Tanker=17, Dredger=21\n",
      "Subclass 13: Cargo=237, Other=120, Fishing=52, Tanker=22, Dredger=16\n",
      "Subclass 14: Cargo=251, Other=110, Fishing=47, Tanker=20, Dredger=12\n",
      "Subclass 15: Cargo=248, Other=107, Fishing=46, Tanker=24, Dredger=17\n",
      "Subclass 16: Cargo=239, Other=108, Fishing=47, Tanker=15, Dredger=11\n"
     ]
    }
   ],
   "source": [
    "import random\n",
    "\n",
    "\n",
    "def split_category(value, num_splits=16):\n",
    "    splits = [0] * num_splits\n",
    "    for _ in range(value):\n",
    "        splits[random.randint(0, num_splits - 1)] += 1\n",
    "    return splits\n",
    "\n",
    "\n",
    "data = {\"Cargo\": 3890, \"Other\": 1710, \"Fishing\": 814, \"Tanker\": 315, \"Dredger\": 242}\n",
    "\n",
    "subclasses = []\n",
    "\n",
    "# Split each category into 16 subclasses\n",
    "for category, value in data.items():\n",
    "    splits = split_category(value)\n",
    "    if not subclasses:\n",
    "        subclasses = [[val] for val in splits]\n",
    "    else:\n",
    "        for i, val in enumerate(splits):\n",
    "            subclasses[i].append(val)\n",
    "\n",
    "# Each element in subclasses now contains representation from each of the five main classes\n",
    "for idx, sc in enumerate(subclasses):\n",
    "    print(\n",
    "        f\"Subclass {idx + 1}: Cargo={sc[0]}, Other={sc[1]}, Fishing={sc[2]}, Tanker={sc[3]}, Dredger={sc[4]}\"\n",
    "    )"
   ]
  },
  {
   "cell_type": "code",
   "execution_count": null,
   "metadata": {},
   "outputs": [],
   "source": []
  }
 ],
 "metadata": {
  "kernelspec": {
   "display_name": "hg",
   "language": "python",
   "name": "python3"
  },
  "language_info": {
   "codemirror_mode": {
    "name": "ipython",
    "version": 3
   },
   "file_extension": ".py",
   "mimetype": "text/x-python",
   "name": "python",
   "nbconvert_exporter": "python",
   "pygments_lexer": "ipython3",
   "version": "3.10.8"
  },
  "orig_nbformat": 4
 },
 "nbformat": 4,
 "nbformat_minor": 2
}
