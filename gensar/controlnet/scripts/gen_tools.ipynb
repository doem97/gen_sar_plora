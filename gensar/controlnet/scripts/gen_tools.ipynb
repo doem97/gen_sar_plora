{
 "cells": [
  {
   "attachments": {},
   "cell_type": "markdown",
   "metadata": {},
   "source": [
    "**Table of contents**<a id='toc0_'></a>    \n",
    "- [Refine `.json` file](#toc1_1_)    \n",
    "  - [Extract only target class's json](#toc1_2_)    \n",
    "  - [Extract 2p prompts](#toc1_3_)    \n",
    "  - [Extract Random Samples](#toc1_4_)    \n",
    "\n",
    "<!-- vscode-jupyter-toc-config\n",
    "\tnumbering=false\n",
    "\tanchor=true\n",
    "\tflat=false\n",
    "\tminLevel=1\n",
    "\tmaxLevel=6\n",
    "\t/vscode-jupyter-toc-config -->\n",
    "<!-- THIS CELL WILL BE REPLACED ON TOC UPDATE. DO NOT WRITE YOUR TEXT IN THIS CELL -->"
   ]
  },
  {
   "attachments": {},
   "cell_type": "markdown",
   "metadata": {},
   "source": [
    "## <a id='toc1_1_'></a>[Refine `.json` file](#toc0_)\n",
    "Get the `cond+prompt.json`: Remove `target` field and refine to `source` + `prompt`"
   ]
  },
  {
   "cell_type": "code",
   "execution_count": 6,
   "metadata": {},
   "outputs": [],
   "source": [
    "# remove target field from json\n",
    "import json\n",
    "from collections import OrderedDict\n",
    "\n",
    "input_file = \"../training/fusrs_v2_256_cam_v2/prompts.json\"\n",
    "output_file = \"../gen/fusrs_v2_cam_v2/prompts.json\"\n",
    "\n",
    "with open(input_file, \"r\") as infile, open(output_file, \"w\") as outfile:\n",
    "    for line in infile:\n",
    "        # Load the JSON object from the line\n",
    "        data = json.loads(line, object_pairs_hook=OrderedDict)\n",
    "\n",
    "        # Remove the \"target\" field if it exists\n",
    "        if \"target\" in data:\n",
    "            del data[\"target\"]\n",
    "\n",
    "        # Rename the \"source\" field to \"condition\" and remove the \"source\" string\n",
    "        if \"source\" in data:\n",
    "            condition_value = data.pop(\"source\")\n",
    "            condition_value = condition_value.replace(\"./source/\", \"./\")\n",
    "            data[\"condition\"] = condition_value\n",
    "\n",
    "            # Reorder the fields to ensure \"condition\" comes before \"prompt\"\n",
    "            ordered_data = OrderedDict(\n",
    "                [(\"condition\", data[\"condition\"]), (\"prompt\", data[\"prompt\"])]\n",
    "            )\n",
    "        else:\n",
    "            ordered_data = data\n",
    "\n",
    "        # Write the modified JSON object to the output file\n",
    "        outfile.write(json.dumps(ordered_data) + \"\\n\")"
   ]
  },
  {
   "attachments": {},
   "cell_type": "markdown",
   "metadata": {},
   "source": [
    "## <a id='toc1_2_'></a>[Extract only target class's json](#toc0_)"
   ]
  },
  {
   "cell_type": "code",
   "execution_count": 7,
   "metadata": {},
   "outputs": [],
   "source": [
    "import json\n",
    "import random\n",
    "\n",
    "types = [\"Fishing\", \"Tanker\", \"Dredger\", \"Cargo\"]\n",
    "\n",
    "for ship_type in types:\n",
    "    keyword = f\"{ship_type} ship\"\n",
    "\n",
    "    input_file = \"../gen/fusrs_v2_cam_v2/prompts.json\"\n",
    "    # input_file = \"../gen/fusrs_v2_cam_4k/cond+prompt.json\"\n",
    "    output_file = f\"../gen/fusrs_v2_cam_v2/cls_{ship_type.lower()}.json\"\n",
    "\n",
    "    with open(input_file, \"r\") as infile:\n",
    "        lines = infile.readlines()\n",
    "\n",
    "    # random.shuffle(lines)\n",
    "\n",
    "    with open(output_file, \"w\") as outfile:\n",
    "        for line in lines:\n",
    "            data = json.loads(line)\n",
    "            prompt = data[\"prompt\"]\n",
    "\n",
    "            if keyword.lower() in prompt.lower():\n",
    "                outfile.write(line)"
   ]
  },
  {
   "attachments": {},
   "cell_type": "markdown",
   "metadata": {},
   "source": [
    "## <a id='toc1_3_'></a>[Extract 2p prompts](#toc0_)\n",
    "Too much prompts causes very similar results. Use less Prompts with more random seed. 2P means 2 Prompts."
   ]
  },
  {
   "cell_type": "code",
   "execution_count": 8,
   "metadata": {},
   "outputs": [
    {
     "name": "stdout",
     "output_type": "stream",
     "text": [
      "Randomly sampled lines written to ../gen/fusrs_v2_cam_v2/2p_fishing.json\n",
      "Randomly sampled lines written to ../gen/fusrs_v2_cam_v2/2p_tanker.json\n",
      "Randomly sampled lines written to ../gen/fusrs_v2_cam_v2/2p_dredger.json\n"
     ]
    }
   ],
   "source": [
    "import random\n",
    "\n",
    "TYPES = [\"Fishing\", \"Tanker\", \"Dredger\"]\n",
    "PROMPTS_IMG = 5\n",
    "PICK = 2\n",
    "\n",
    "\n",
    "for ship_type in TYPES:\n",
    "    input_file = f\"../gen/fusrs_v2_cam_v2/cls_{ship_type.lower()}.json\"\n",
    "    output_file = f\"../gen/fusrs_v2_cam_v2/2p_{ship_type.lower()}.json\"\n",
    "\n",
    "    with open(input_file, \"r\") as infile, open(output_file, \"w\") as outfile:\n",
    "        lines_buffer = []\n",
    "        for i, line in enumerate(infile, start=1):\n",
    "            lines_buffer.append(line)\n",
    "            if i % PROMPTS_IMG == 0:\n",
    "                # Randomly select lines from the buffer\n",
    "                sampled_lines = random.sample(lines_buffer, PICK)\n",
    "                # Write the sampled lines to the output file\n",
    "                outfile.writelines(sampled_lines)\n",
    "                # Add a new line to separate the 5-line texts\n",
    "                lines_buffer.clear()\n",
    "\n",
    "        if lines_buffer:  # Handle any remaining lines\n",
    "            sampled_line = random.choice(lines_buffer)\n",
    "            outfile.write(sampled_line)\n",
    "\n",
    "    print(f\"Randomly sampled lines written to {output_file}\")"
   ]
  },
  {
   "attachments": {},
   "cell_type": "markdown",
   "metadata": {},
   "source": [
    "## <a id='toc1_4_'></a>[Extract Random Samples](#toc0_)"
   ]
  },
  {
   "cell_type": "code",
   "execution_count": 6,
   "metadata": {},
   "outputs": [
    {
     "name": "stdout",
     "output_type": "stream",
     "text": [
      "Source file ../gen/fusrs_v2_cam_4k/ann_fishing_4k_cam.txt has 4070 lines.\n",
      "Successfully extracted 3076 random lines from ../gen/fusrs_v2_cam_4k/ann_fishing_4k_cam.txt and wrote them to ../gen/fusrs_v2_cam_4k/meta/ann_fishing_4k_cam_3076.txt.\n"
     ]
    }
   ],
   "source": [
    "import os\n",
    "import random\n",
    "\n",
    "\n",
    "def extract_random_lines(input_file, output_file, n):\n",
    "    with open(input_file, \"r\") as f:\n",
    "        lines = f.readlines()\n",
    "    print(f\"Source file {input_file} has {len(lines)} lines.\")\n",
    "\n",
    "    if n > len(lines):\n",
    "        raise ValueError(\n",
    "            f\"Requested {n} lines, but the input file only has {len(lines)} lines.\"\n",
    "        )\n",
    "\n",
    "    random_lines = random.sample(lines, n)\n",
    "\n",
    "    output_dir = os.path.dirname(output_file)\n",
    "    os.makedirs(output_dir, exist_ok=True)\n",
    "\n",
    "    with open(output_file, \"w\") as f:\n",
    "        f.writelines(random_lines)\n",
    "\n",
    "\n",
    "ship_type = \"Fishing\"\n",
    "input_file = f\"../gen/fusrs_v2_cam_4k/ann_{ship_type.lower()}_4k_cam.txt\"\n",
    "n = 3076  # Replace this with the desired number of lines to extract\n",
    "output_file = f\"../gen/fusrs_v2_cam_4k/meta/ann_{ship_type.lower()}_4k_cam_{n}.txt\"\n",
    "\n",
    "try:\n",
    "    extract_random_lines(input_file, output_file, n)\n",
    "    print(\n",
    "        f\"Successfully extracted {n} random lines from {input_file} and wrote them to {output_file}.\"\n",
    "    )\n",
    "except ValueError as e:\n",
    "    print(e)\n",
    "except FileNotFoundError:\n",
    "    print(f\"Error: {input_file} not found.\")"
   ]
  },
  {
   "attachments": {},
   "cell_type": "markdown",
   "metadata": {},
   "source": [
    "#"
   ]
  }
 ],
 "metadata": {
  "kernelspec": {
   "display_name": "control",
   "language": "python",
   "name": "python3"
  },
  "language_info": {
   "codemirror_mode": {
    "name": "ipython",
    "version": 3
   },
   "file_extension": ".py",
   "mimetype": "text/x-python",
   "name": "python",
   "nbconvert_exporter": "python",
   "pygments_lexer": "ipython3",
   "version": "3.8.5"
  },
  "orig_nbformat": 4
 },
 "nbformat": 4,
 "nbformat_minor": 2
}
