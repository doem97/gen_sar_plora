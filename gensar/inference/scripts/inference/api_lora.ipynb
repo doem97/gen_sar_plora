{
 "cells": [
  {
   "cell_type": "code",
   "execution_count": 11,
   "metadata": {},
   "outputs": [],
   "source": [
    "import json\n",
    "import requests\n",
    "import io\n",
    "import base64\n",
    "from PIL import Image, PngImagePlugin\n",
    "\n",
    "url = \"http://127.0.0.1:7860\"\n",
    "\n",
    "payload = {\n",
    "    \"prompt\": \"remote sensing, SAR image of a tanker ship, <lora:dosrs_ors:0.6> <lora:sar:0.6>\",\n",
    "    \"steps\": 30,\n",
    "    \"seed\": 42,\n",
    "    \"batch_size\": 30,\n",
    "    \"cfg_scale\": 7.5,\n",
    "}\n",
    "\n",
    "response = requests.post(url=f\"{url}/sdapi/v1/txt2img\", json=payload)"
   ]
  },
  {
   "cell_type": "code",
   "execution_count": 10,
   "metadata": {},
   "outputs": [],
   "source": [
    "category = \"tanker\"\n",
    "output_dir = f\"/workspace/dso/stable-diffusion-webui/outputs/ORS0.6_SAR0.6/{category}\"\n",
    "r = response.json()\n",
    "idx = 0\n",
    "for i in r[\"images\"]:\n",
    "    image = Image.open(io.BytesIO(base64.b64decode(i.split(\",\", 1)[0])))\n",
    "\n",
    "    png_payload = {\"image\": \"data:image/png;base64,\" + i}\n",
    "    response2 = requests.post(url=f\"{url}/sdapi/v1/png-info\", json=png_payload)\n",
    "\n",
    "    pnginfo = PngImagePlugin.PngInfo()\n",
    "    pnginfo.add_text(\"parameters\", response2.json().get(\"info\"))\n",
    "    image.save(f\"{output_dir}/{category}_{idx}.png\", pnginfo=pnginfo)\n",
    "    idx += 1"
   ]
  },
  {
   "cell_type": "code",
   "execution_count": 13,
   "metadata": {},
   "outputs": [
    {
     "name": "stderr",
     "output_type": "stream",
     "text": [
      "  0%|          | 0/35 [00:00<?, ?it/s]"
     ]
    },
    {
     "name": "stdout",
     "output_type": "stream",
     "text": [
      "batch_idx: 0\n"
     ]
    },
    {
     "name": "stderr",
     "output_type": "stream",
     "text": [
      "  3%|▎         | 1/35 [00:59<33:59, 59.97s/it]"
     ]
    },
    {
     "name": "stdout",
     "output_type": "stream",
     "text": [
      "batch_idx: 1\n"
     ]
    },
    {
     "name": "stderr",
     "output_type": "stream",
     "text": [
      "  6%|▌         | 2/35 [01:57<32:12, 58.55s/it]"
     ]
    },
    {
     "name": "stdout",
     "output_type": "stream",
     "text": [
      "batch_idx: 2\n"
     ]
    },
    {
     "name": "stderr",
     "output_type": "stream",
     "text": [
      "  9%|▊         | 3/35 [02:54<30:51, 57.84s/it]"
     ]
    },
    {
     "name": "stdout",
     "output_type": "stream",
     "text": [
      "batch_idx: 3\n"
     ]
    },
    {
     "name": "stderr",
     "output_type": "stream",
     "text": [
      " 11%|█▏        | 4/35 [03:52<29:49, 57.71s/it]"
     ]
    },
    {
     "name": "stdout",
     "output_type": "stream",
     "text": [
      "batch_idx: 4\n"
     ]
    },
    {
     "name": "stderr",
     "output_type": "stream",
     "text": [
      " 14%|█▍        | 5/35 [04:49<28:53, 57.78s/it]"
     ]
    },
    {
     "name": "stdout",
     "output_type": "stream",
     "text": [
      "batch_idx: 5\n"
     ]
    },
    {
     "name": "stderr",
     "output_type": "stream",
     "text": [
      " 17%|█▋        | 6/35 [05:48<27:59, 57.91s/it]"
     ]
    },
    {
     "name": "stdout",
     "output_type": "stream",
     "text": [
      "batch_idx: 6\n"
     ]
    },
    {
     "name": "stderr",
     "output_type": "stream",
     "text": [
      " 20%|██        | 7/35 [06:45<27:00, 57.88s/it]"
     ]
    },
    {
     "name": "stdout",
     "output_type": "stream",
     "text": [
      "batch_idx: 7\n"
     ]
    },
    {
     "name": "stderr",
     "output_type": "stream",
     "text": [
      " 23%|██▎       | 8/35 [07:44<26:05, 57.98s/it]"
     ]
    },
    {
     "name": "stdout",
     "output_type": "stream",
     "text": [
      "batch_idx: 8\n"
     ]
    },
    {
     "name": "stderr",
     "output_type": "stream",
     "text": [
      " 26%|██▌       | 9/35 [08:42<25:08, 58.03s/it]"
     ]
    },
    {
     "name": "stdout",
     "output_type": "stream",
     "text": [
      "batch_idx: 9\n"
     ]
    },
    {
     "name": "stderr",
     "output_type": "stream",
     "text": [
      " 29%|██▊       | 10/35 [09:40<24:11, 58.05s/it]"
     ]
    },
    {
     "name": "stdout",
     "output_type": "stream",
     "text": [
      "batch_idx: 10\n"
     ]
    },
    {
     "name": "stderr",
     "output_type": "stream",
     "text": [
      " 31%|███▏      | 11/35 [10:37<23:09, 57.88s/it]"
     ]
    },
    {
     "name": "stdout",
     "output_type": "stream",
     "text": [
      "batch_idx: 11\n"
     ]
    },
    {
     "name": "stderr",
     "output_type": "stream",
     "text": [
      " 34%|███▍      | 12/35 [11:35<22:09, 57.80s/it]"
     ]
    },
    {
     "name": "stdout",
     "output_type": "stream",
     "text": [
      "batch_idx: 12\n"
     ]
    },
    {
     "name": "stderr",
     "output_type": "stream",
     "text": [
      " 37%|███▋      | 13/35 [12:33<21:10, 57.75s/it]"
     ]
    },
    {
     "name": "stdout",
     "output_type": "stream",
     "text": [
      "batch_idx: 13\n"
     ]
    },
    {
     "name": "stderr",
     "output_type": "stream",
     "text": [
      " 40%|████      | 14/35 [13:30<20:11, 57.71s/it]"
     ]
    },
    {
     "name": "stdout",
     "output_type": "stream",
     "text": [
      "batch_idx: 14\n"
     ]
    },
    {
     "name": "stderr",
     "output_type": "stream",
     "text": [
      " 43%|████▎     | 15/35 [14:28<19:14, 57.74s/it]"
     ]
    },
    {
     "name": "stdout",
     "output_type": "stream",
     "text": [
      "batch_idx: 15\n"
     ]
    },
    {
     "name": "stderr",
     "output_type": "stream",
     "text": [
      " 46%|████▌     | 16/35 [15:26<18:18, 57.81s/it]"
     ]
    },
    {
     "name": "stdout",
     "output_type": "stream",
     "text": [
      "batch_idx: 16\n"
     ]
    },
    {
     "name": "stderr",
     "output_type": "stream",
     "text": [
      " 49%|████▊     | 17/35 [16:24<17:22, 57.92s/it]"
     ]
    },
    {
     "name": "stdout",
     "output_type": "stream",
     "text": [
      "batch_idx: 17\n"
     ]
    },
    {
     "name": "stderr",
     "output_type": "stream",
     "text": [
      " 51%|█████▏    | 18/35 [17:22<16:24, 57.91s/it]"
     ]
    },
    {
     "name": "stdout",
     "output_type": "stream",
     "text": [
      "batch_idx: 18\n"
     ]
    },
    {
     "name": "stderr",
     "output_type": "stream",
     "text": [
      " 54%|█████▍    | 19/35 [18:19<15:24, 57.76s/it]"
     ]
    },
    {
     "name": "stdout",
     "output_type": "stream",
     "text": [
      "batch_idx: 19\n"
     ]
    },
    {
     "name": "stderr",
     "output_type": "stream",
     "text": [
      " 57%|█████▋    | 20/35 [19:17<14:26, 57.80s/it]"
     ]
    },
    {
     "name": "stdout",
     "output_type": "stream",
     "text": [
      "batch_idx: 20\n"
     ]
    },
    {
     "name": "stderr",
     "output_type": "stream",
     "text": [
      " 60%|██████    | 21/35 [20:15<13:27, 57.70s/it]"
     ]
    },
    {
     "name": "stdout",
     "output_type": "stream",
     "text": [
      "batch_idx: 21\n"
     ]
    },
    {
     "name": "stderr",
     "output_type": "stream",
     "text": [
      " 63%|██████▎   | 22/35 [21:13<12:31, 57.79s/it]"
     ]
    },
    {
     "name": "stdout",
     "output_type": "stream",
     "text": [
      "batch_idx: 22\n"
     ]
    },
    {
     "name": "stderr",
     "output_type": "stream",
     "text": [
      " 66%|██████▌   | 23/35 [22:10<11:30, 57.53s/it]"
     ]
    },
    {
     "name": "stdout",
     "output_type": "stream",
     "text": [
      "batch_idx: 23\n"
     ]
    },
    {
     "name": "stderr",
     "output_type": "stream",
     "text": [
      " 69%|██████▊   | 24/35 [23:09<10:38, 58.07s/it]"
     ]
    },
    {
     "name": "stdout",
     "output_type": "stream",
     "text": [
      "batch_idx: 24\n"
     ]
    },
    {
     "name": "stderr",
     "output_type": "stream",
     "text": [
      " 71%|███████▏  | 25/35 [24:07<09:40, 58.09s/it]"
     ]
    },
    {
     "name": "stdout",
     "output_type": "stream",
     "text": [
      "batch_idx: 25\n"
     ]
    },
    {
     "name": "stderr",
     "output_type": "stream",
     "text": [
      " 74%|███████▍  | 26/35 [25:04<08:40, 57.85s/it]"
     ]
    },
    {
     "name": "stdout",
     "output_type": "stream",
     "text": [
      "batch_idx: 26\n"
     ]
    },
    {
     "name": "stderr",
     "output_type": "stream",
     "text": [
      " 77%|███████▋  | 27/35 [26:02<07:42, 57.84s/it]"
     ]
    },
    {
     "name": "stdout",
     "output_type": "stream",
     "text": [
      "batch_idx: 27\n"
     ]
    },
    {
     "name": "stderr",
     "output_type": "stream",
     "text": [
      " 80%|████████  | 28/35 [27:00<06:44, 57.83s/it]"
     ]
    },
    {
     "name": "stdout",
     "output_type": "stream",
     "text": [
      "batch_idx: 28\n"
     ]
    },
    {
     "name": "stderr",
     "output_type": "stream",
     "text": [
      " 83%|████████▎ | 29/35 [27:58<05:47, 57.92s/it]"
     ]
    },
    {
     "name": "stdout",
     "output_type": "stream",
     "text": [
      "batch_idx: 29\n"
     ]
    },
    {
     "name": "stderr",
     "output_type": "stream",
     "text": [
      " 86%|████████▌ | 30/35 [28:55<04:48, 57.66s/it]"
     ]
    },
    {
     "name": "stdout",
     "output_type": "stream",
     "text": [
      "batch_idx: 30\n"
     ]
    },
    {
     "name": "stderr",
     "output_type": "stream",
     "text": [
      " 89%|████████▊ | 31/35 [29:52<03:49, 57.47s/it]"
     ]
    },
    {
     "name": "stdout",
     "output_type": "stream",
     "text": [
      "batch_idx: 31\n"
     ]
    },
    {
     "name": "stderr",
     "output_type": "stream",
     "text": [
      " 91%|█████████▏| 32/35 [30:49<02:52, 57.37s/it]"
     ]
    },
    {
     "name": "stdout",
     "output_type": "stream",
     "text": [
      "batch_idx: 32\n"
     ]
    },
    {
     "name": "stderr",
     "output_type": "stream",
     "text": [
      " 94%|█████████▍| 33/35 [31:49<01:55, 57.90s/it]"
     ]
    },
    {
     "name": "stdout",
     "output_type": "stream",
     "text": [
      "batch_idx: 33\n"
     ]
    },
    {
     "name": "stderr",
     "output_type": "stream",
     "text": [
      " 97%|█████████▋| 34/35 [32:46<00:57, 57.78s/it]"
     ]
    },
    {
     "name": "stdout",
     "output_type": "stream",
     "text": [
      "batch_idx: 34\n"
     ]
    },
    {
     "name": "stderr",
     "output_type": "stream",
     "text": [
      "100%|██████████| 35/35 [33:44<00:00, 57.83s/it]\n",
      "100%|██████████| 35/35 [33:44<00:00, 57.83s/it]\n"
     ]
    }
   ],
   "source": [
    "## GENERATE TANKER\n",
    "import json\n",
    "import requests\n",
    "import io\n",
    "import base64\n",
    "from PIL import Image, PngImagePlugin\n",
    "from tqdm import tqdm\n",
    "\n",
    "url = \"http://127.0.0.1:7860\"\n",
    "\n",
    "option_payload = {\n",
    "    \"sd_model_checkpoint\": \"v1-5-pruned-emaonly.safetensors [6ce0161689]\",\n",
    "}\n",
    "\n",
    "response = requests.post(url=f\"{url}/sdapi/v1/options\", json=option_payload)\n",
    "\n",
    "\n",
    "img_idx = 0\n",
    "\n",
    "for batch_idx in tqdm(range(35)):\n",
    "    print(f\"batch_idx: {batch_idx}\")\n",
    "    payload = {\n",
    "        \"prompt\": \"remote sensing, SAR image of a tanker ship, <lora:dosrs_ors:0.6> <lora:sar:0.6>\",\n",
    "        \"steps\": 30,\n",
    "        \"seed\": batch_idx * 42,\n",
    "        \"batch_size\": 30,\n",
    "        \"cfg_scale\": 7.5,\n",
    "    }\n",
    "\n",
    "    response = requests.post(url=f\"{url}/sdapi/v1/txt2img\", json=payload)\n",
    "\n",
    "    category = \"tanker\"\n",
    "    output_dir = (\n",
    "        f\"/workspace/dso/stable-diffusion-webui/outputs/ORS0.6_SAR0.6/{category}\"\n",
    "    )\n",
    "    r = response.json()\n",
    "\n",
    "    for i in r[\"images\"]:\n",
    "        image = Image.open(io.BytesIO(base64.b64decode(i.split(\",\", 1)[0])))\n",
    "\n",
    "        png_payload = {\"image\": \"data:image/png;base64,\" + i}\n",
    "        response2 = requests.post(url=f\"{url}/sdapi/v1/png-info\", json=png_payload)\n",
    "\n",
    "        pnginfo = PngImagePlugin.PngInfo()\n",
    "        pnginfo.add_text(\"parameters\", response2.json().get(\"info\"))\n",
    "        image.save(f\"{output_dir}/{category}_{img_idx}.png\", pnginfo=pnginfo)\n",
    "        img_idx += 1"
   ]
  },
  {
   "cell_type": "code",
   "execution_count": 15,
   "metadata": {},
   "outputs": [
    {
     "name": "stderr",
     "output_type": "stream",
     "text": [
      "  0%|          | 0/10 [00:00<?, ?it/s]"
     ]
    },
    {
     "name": "stdout",
     "output_type": "stream",
     "text": [
      "batch_idx: 0\n"
     ]
    },
    {
     "name": "stderr",
     "output_type": "stream",
     "text": [
      " 10%|█         | 1/10 [03:10<28:31, 190.18s/it]"
     ]
    },
    {
     "name": "stdout",
     "output_type": "stream",
     "text": [
      "batch_idx: 1\n"
     ]
    },
    {
     "name": "stderr",
     "output_type": "stream",
     "text": [
      " 20%|██        | 2/10 [06:06<24:14, 181.76s/it]"
     ]
    },
    {
     "name": "stdout",
     "output_type": "stream",
     "text": [
      "batch_idx: 2\n"
     ]
    },
    {
     "name": "stderr",
     "output_type": "stream",
     "text": [
      " 30%|███       | 3/10 [09:06<21:09, 181.36s/it]"
     ]
    },
    {
     "name": "stdout",
     "output_type": "stream",
     "text": [
      "batch_idx: 3\n"
     ]
    },
    {
     "name": "stderr",
     "output_type": "stream",
     "text": [
      " 40%|████      | 4/10 [12:04<17:59, 179.85s/it]"
     ]
    },
    {
     "name": "stdout",
     "output_type": "stream",
     "text": [
      "batch_idx: 4\n"
     ]
    },
    {
     "name": "stderr",
     "output_type": "stream",
     "text": [
      " 50%|█████     | 5/10 [15:00<14:51, 178.33s/it]"
     ]
    },
    {
     "name": "stdout",
     "output_type": "stream",
     "text": [
      "batch_idx: 5\n"
     ]
    },
    {
     "name": "stderr",
     "output_type": "stream",
     "text": [
      " 60%|██████    | 6/10 [18:00<11:56, 179.15s/it]"
     ]
    },
    {
     "name": "stdout",
     "output_type": "stream",
     "text": [
      "batch_idx: 6\n"
     ]
    },
    {
     "name": "stderr",
     "output_type": "stream",
     "text": [
      " 70%|███████   | 7/10 [20:57<08:55, 178.37s/it]"
     ]
    },
    {
     "name": "stdout",
     "output_type": "stream",
     "text": [
      "batch_idx: 7\n"
     ]
    },
    {
     "name": "stderr",
     "output_type": "stream",
     "text": [
      " 80%|████████  | 8/10 [23:53<05:55, 177.68s/it]"
     ]
    },
    {
     "name": "stdout",
     "output_type": "stream",
     "text": [
      "batch_idx: 8\n"
     ]
    },
    {
     "name": "stderr",
     "output_type": "stream",
     "text": [
      " 90%|█████████ | 9/10 [26:51<02:57, 177.69s/it]"
     ]
    },
    {
     "name": "stdout",
     "output_type": "stream",
     "text": [
      "batch_idx: 9\n"
     ]
    },
    {
     "name": "stderr",
     "output_type": "stream",
     "text": [
      "100%|██████████| 10/10 [29:47<00:00, 178.74s/it]\n",
      "100%|██████████| 10/10 [29:47<00:00, 178.74s/it]\n"
     ]
    }
   ],
   "source": [
    "## GENERATE CARGO\n",
    "import json\n",
    "import requests\n",
    "import io\n",
    "import base64\n",
    "from PIL import Image, PngImagePlugin\n",
    "from tqdm import tqdm\n",
    "\n",
    "url = \"http://127.0.0.1:7860\"\n",
    "\n",
    "option_payload = {\n",
    "    \"sd_model_checkpoint\": \"v1-5-pruned-emaonly.safetensors [6ce0161689]\",\n",
    "}\n",
    "\n",
    "response = requests.post(url=f\"{url}/sdapi/v1/options\", json=option_payload)\n",
    "\n",
    "\n",
    "img_idx = 0\n",
    "category = \"cargo\"\n",
    "\n",
    "for batch_idx in tqdm(range(10)):\n",
    "    print(f\"batch_idx: {batch_idx}\")\n",
    "    payload = {\n",
    "        \"prompt\": f\"remote sensing, SAR image of a {category} ship, <lora:dosrs_ors:0.6> <lora:sar:0.6>\",\n",
    "        \"steps\": 30,\n",
    "        \"seed\": batch_idx * 42,\n",
    "        \"batch_size\": 110,\n",
    "        \"cfg_scale\": 7.5,\n",
    "    }\n",
    "\n",
    "    response = requests.post(url=f\"{url}/sdapi/v1/txt2img\", json=payload)\n",
    "\n",
    "    output_dir = (\n",
    "        f\"/workspace/dso/stable-diffusion-webui/outputs/ORS0.6_SAR0.6/{category}\"\n",
    "    )\n",
    "    r = response.json()\n",
    "\n",
    "    for i in r[\"images\"]:\n",
    "        image = Image.open(io.BytesIO(base64.b64decode(i.split(\",\", 1)[0])))\n",
    "\n",
    "        png_payload = {\"image\": \"data:image/png;base64,\" + i}\n",
    "        response2 = requests.post(url=f\"{url}/sdapi/v1/png-info\", json=png_payload)\n",
    "\n",
    "        pnginfo = PngImagePlugin.PngInfo()\n",
    "        pnginfo.add_text(\"parameters\", response2.json().get(\"info\"))\n",
    "        image.save(f\"{output_dir}/{category}_{img_idx}.png\", pnginfo=pnginfo)\n",
    "        img_idx += 1"
   ]
  },
  {
   "cell_type": "code",
   "execution_count": 17,
   "metadata": {},
   "outputs": [
    {
     "name": "stderr",
     "output_type": "stream",
     "text": [
      "  0%|          | 0/5 [00:00<?, ?it/s]"
     ]
    },
    {
     "name": "stdout",
     "output_type": "stream",
     "text": [
      "batch_idx: 0\n"
     ]
    },
    {
     "name": "stderr",
     "output_type": "stream",
     "text": [
      " 20%|██        | 1/5 [02:54<11:36, 174.21s/it]"
     ]
    },
    {
     "name": "stdout",
     "output_type": "stream",
     "text": [
      "batch_idx: 1\n"
     ]
    },
    {
     "name": "stderr",
     "output_type": "stream",
     "text": [
      " 40%|████      | 2/5 [05:34<08:17, 165.95s/it]"
     ]
    },
    {
     "name": "stdout",
     "output_type": "stream",
     "text": [
      "batch_idx: 2\n"
     ]
    },
    {
     "name": "stderr",
     "output_type": "stream",
     "text": [
      " 60%|██████    | 3/5 [08:14<05:26, 163.29s/it]"
     ]
    },
    {
     "name": "stdout",
     "output_type": "stream",
     "text": [
      "batch_idx: 3\n"
     ]
    },
    {
     "name": "stderr",
     "output_type": "stream",
     "text": [
      " 80%|████████  | 4/5 [10:56<02:42, 162.60s/it]"
     ]
    },
    {
     "name": "stdout",
     "output_type": "stream",
     "text": [
      "batch_idx: 4\n"
     ]
    },
    {
     "name": "stderr",
     "output_type": "stream",
     "text": [
      "100%|██████████| 5/5 [13:35<00:00, 163.00s/it]\n",
      "100%|██████████| 5/5 [13:35<00:00, 163.00s/it]\n"
     ]
    }
   ],
   "source": [
    "## GENERATE CARGO\n",
    "import json\n",
    "import requests\n",
    "import io\n",
    "import base64\n",
    "from PIL import Image, PngImagePlugin\n",
    "from tqdm import tqdm\n",
    "\n",
    "url = \"http://127.0.0.1:7860\"\n",
    "\n",
    "option_payload = {\n",
    "    \"sd_model_checkpoint\": \"v1-5-pruned-emaonly.safetensors [6ce0161689]\",\n",
    "}\n",
    "\n",
    "response = requests.post(url=f\"{url}/sdapi/v1/options\", json=option_payload)\n",
    "\n",
    "\n",
    "img_idx = 500\n",
    "category = \"dredger\"\n",
    "\n",
    "for batch_idx in tqdm(range(5)):\n",
    "    print(f\"batch_idx: {batch_idx}\")\n",
    "    payload = {\n",
    "        \"prompt\": f\"remote sensing, SAR image of a {category} ship, <lora:dosrs_ors:0.6> <lora:sar:0.6>\",\n",
    "        \"steps\": 30,\n",
    "        \"seed\": batch_idx * 42,\n",
    "        \"batch_size\": 100,\n",
    "        \"cfg_scale\": 7.5,\n",
    "    }\n",
    "\n",
    "    response = requests.post(url=f\"{url}/sdapi/v1/txt2img\", json=payload)\n",
    "\n",
    "    output_dir = (\n",
    "        f\"/workspace/dso/stable-diffusion-webui/outputs/ORS0.6_SAR0.6/{category}\"\n",
    "    )\n",
    "    r = response.json()\n",
    "\n",
    "    for i in r[\"images\"]:\n",
    "        image = Image.open(io.BytesIO(base64.b64decode(i.split(\",\", 1)[0])))\n",
    "\n",
    "        png_payload = {\"image\": \"data:image/png;base64,\" + i}\n",
    "        response2 = requests.post(url=f\"{url}/sdapi/v1/png-info\", json=png_payload)\n",
    "\n",
    "        pnginfo = PngImagePlugin.PngInfo()\n",
    "        pnginfo.add_text(\"parameters\", response2.json().get(\"info\"))\n",
    "        image.save(f\"{output_dir}/{category}_{img_idx}.png\", pnginfo=pnginfo)\n",
    "        img_idx += 1"
   ]
  },
  {
   "cell_type": "code",
   "execution_count": null,
   "metadata": {},
   "outputs": [],
   "source": []
  }
 ],
 "metadata": {
  "kernelspec": {
   "display_name": "hg",
   "language": "python",
   "name": "python3"
  },
  "language_info": {
   "codemirror_mode": {
    "name": "ipython",
    "version": 3
   },
   "file_extension": ".py",
   "mimetype": "text/x-python",
   "name": "python",
   "nbconvert_exporter": "python",
   "pygments_lexer": "ipython3",
   "version": "3.10.8"
  }
 },
 "nbformat": 4,
 "nbformat_minor": 2
}
